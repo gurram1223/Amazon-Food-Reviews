{
 "cells": [
  {
   "cell_type": "markdown",
   "metadata": {},
   "source": [
    "# Naive Bayes for Amazon Reviews Dataset"
   ]
  },
  {
   "cell_type": "code",
   "execution_count": 1,
   "metadata": {},
   "outputs": [],
   "source": [
    "#import libraries.....\n",
    "import sqlite3\n",
    "import pandas as pd\n",
    "import numpy as np\n",
    "import matplotlib.pyplot as plt\n",
    "from sklearn.preprocessing import StandardScaler\n",
    "from nltk.corpus import stopwords\n",
    "import nltk\n",
    "import time\n",
    "import seaborn as sns\n",
    "from sklearn.feature_extraction.text import TfidfTransformer\n",
    "from sklearn.feature_extraction.text import TfidfVectorizer\n",
    "\n",
    "from sklearn.feature_extraction.text import CountVectorizer\n",
    "from sklearn.metrics import confusion_matrix\n",
    "from sklearn import metrics\n",
    "\n",
    "from sklearn.model_selection import train_test_split\n",
    "from sklearn.metrics import accuracy_score\n",
    "from sklearn.model_selection import cross_val_score\n",
    "from collections import Counter\n",
    "from sklearn.metrics import accuracy_score\n",
    "from sklearn.model_selection import cross_validate\n",
    "import datetime\n",
    "from sklearn.naive_bayes import MultinomialNB\n",
    "import sklearn.metrics\n",
    "import tqdm\n",
    "from prettytable import PrettyTable\n",
    "\n",
    "%matplotlib inline\n",
    "import warnings\n",
    "warnings.filterwarnings(\"ignore\")"
   ]
  },
  {
   "cell_type": "code",
   "execution_count": 2,
   "metadata": {},
   "outputs": [
    {
     "data": {
      "text/html": [
       "<div>\n",
       "<style scoped>\n",
       "    .dataframe tbody tr th:only-of-type {\n",
       "        vertical-align: middle;\n",
       "    }\n",
       "\n",
       "    .dataframe tbody tr th {\n",
       "        vertical-align: top;\n",
       "    }\n",
       "\n",
       "    .dataframe thead th {\n",
       "        text-align: right;\n",
       "    }\n",
       "</style>\n",
       "<table border=\"1\" class=\"dataframe\">\n",
       "  <thead>\n",
       "    <tr style=\"text-align: right;\">\n",
       "      <th></th>\n",
       "      <th>level_0</th>\n",
       "      <th>index</th>\n",
       "      <th>Id</th>\n",
       "      <th>ProductId</th>\n",
       "      <th>UserId</th>\n",
       "      <th>ProfileName</th>\n",
       "      <th>HelpfulnessNumerator</th>\n",
       "      <th>HelpfulnessDenominator</th>\n",
       "      <th>Score</th>\n",
       "      <th>Time</th>\n",
       "      <th>Summary</th>\n",
       "      <th>Text</th>\n",
       "      <th>CleanedText</th>\n",
       "      <th>Cleaned_Summary</th>\n",
       "    </tr>\n",
       "  </thead>\n",
       "  <tbody>\n",
       "    <tr>\n",
       "      <th>0</th>\n",
       "      <td>0</td>\n",
       "      <td>138706</td>\n",
       "      <td>150524</td>\n",
       "      <td>0006641040</td>\n",
       "      <td>ACITT7DI6IDDL</td>\n",
       "      <td>shari zychinski</td>\n",
       "      <td>0</td>\n",
       "      <td>0</td>\n",
       "      <td>positive</td>\n",
       "      <td>939340800</td>\n",
       "      <td>EVERY book is educational</td>\n",
       "      <td>this witty little book makes my son laugh at l...</td>\n",
       "      <td>witti littl book make son laugh loud recit car...</td>\n",
       "      <td>everi book educ</td>\n",
       "    </tr>\n",
       "    <tr>\n",
       "      <th>1</th>\n",
       "      <td>30</td>\n",
       "      <td>138683</td>\n",
       "      <td>150501</td>\n",
       "      <td>0006641040</td>\n",
       "      <td>AJ46FKXOVC7NR</td>\n",
       "      <td>Nicholas A Mesiano</td>\n",
       "      <td>2</td>\n",
       "      <td>2</td>\n",
       "      <td>positive</td>\n",
       "      <td>940809600</td>\n",
       "      <td>This whole series is great way to spend time w...</td>\n",
       "      <td>I can remember seeing the show when it aired o...</td>\n",
       "      <td>rememb see show air televis year ago child sis...</td>\n",
       "      <td>whole seri great way spend time child</td>\n",
       "    </tr>\n",
       "    <tr>\n",
       "      <th>2</th>\n",
       "      <td>424</td>\n",
       "      <td>417839</td>\n",
       "      <td>451856</td>\n",
       "      <td>B00004CXX9</td>\n",
       "      <td>AIUWLEQ1ADEG5</td>\n",
       "      <td>Elizabeth Medina</td>\n",
       "      <td>0</td>\n",
       "      <td>0</td>\n",
       "      <td>positive</td>\n",
       "      <td>944092800</td>\n",
       "      <td>Entertainingl Funny!</td>\n",
       "      <td>Beetlejuice is a well written movie ..... ever...</td>\n",
       "      <td>beetlejuic well written movi everyth excel act...</td>\n",
       "      <td>entertainingl funni</td>\n",
       "    </tr>\n",
       "    <tr>\n",
       "      <th>3</th>\n",
       "      <td>330</td>\n",
       "      <td>346055</td>\n",
       "      <td>374359</td>\n",
       "      <td>B00004CI84</td>\n",
       "      <td>A344SMIA5JECGM</td>\n",
       "      <td>Vincent P. Ross</td>\n",
       "      <td>1</td>\n",
       "      <td>2</td>\n",
       "      <td>positive</td>\n",
       "      <td>944438400</td>\n",
       "      <td>A modern day fairy tale</td>\n",
       "      <td>A twist of rumplestiskin captured on film, sta...</td>\n",
       "      <td>twist rumplestiskin captur film star michael k...</td>\n",
       "      <td>modern day fairi tale</td>\n",
       "    </tr>\n",
       "    <tr>\n",
       "      <th>4</th>\n",
       "      <td>423</td>\n",
       "      <td>417838</td>\n",
       "      <td>451855</td>\n",
       "      <td>B00004CXX9</td>\n",
       "      <td>AJH6LUC1UT1ON</td>\n",
       "      <td>The Phantom of the Opera</td>\n",
       "      <td>0</td>\n",
       "      <td>0</td>\n",
       "      <td>positive</td>\n",
       "      <td>946857600</td>\n",
       "      <td>FANTASTIC!</td>\n",
       "      <td>Beetlejuice is an excellent and funny movie. K...</td>\n",
       "      <td>beetlejuic excel funni movi keaton hilari wack...</td>\n",
       "      <td>fantast</td>\n",
       "    </tr>\n",
       "  </tbody>\n",
       "</table>\n",
       "</div>"
      ],
      "text/plain": [
       "   level_0   index      Id   ProductId          UserId  \\\n",
       "0        0  138706  150524  0006641040   ACITT7DI6IDDL   \n",
       "1       30  138683  150501  0006641040   AJ46FKXOVC7NR   \n",
       "2      424  417839  451856  B00004CXX9   AIUWLEQ1ADEG5   \n",
       "3      330  346055  374359  B00004CI84  A344SMIA5JECGM   \n",
       "4      423  417838  451855  B00004CXX9   AJH6LUC1UT1ON   \n",
       "\n",
       "                ProfileName  HelpfulnessNumerator  HelpfulnessDenominator  \\\n",
       "0           shari zychinski                     0                       0   \n",
       "1        Nicholas A Mesiano                     2                       2   \n",
       "2          Elizabeth Medina                     0                       0   \n",
       "3           Vincent P. Ross                     1                       2   \n",
       "4  The Phantom of the Opera                     0                       0   \n",
       "\n",
       "      Score       Time                                            Summary  \\\n",
       "0  positive  939340800                          EVERY book is educational   \n",
       "1  positive  940809600  This whole series is great way to spend time w...   \n",
       "2  positive  944092800                               Entertainingl Funny!   \n",
       "3  positive  944438400                            A modern day fairy tale   \n",
       "4  positive  946857600                                         FANTASTIC!   \n",
       "\n",
       "                                                Text  \\\n",
       "0  this witty little book makes my son laugh at l...   \n",
       "1  I can remember seeing the show when it aired o...   \n",
       "2  Beetlejuice is a well written movie ..... ever...   \n",
       "3  A twist of rumplestiskin captured on film, sta...   \n",
       "4  Beetlejuice is an excellent and funny movie. K...   \n",
       "\n",
       "                                         CleanedText  \\\n",
       "0  witti littl book make son laugh loud recit car...   \n",
       "1  rememb see show air televis year ago child sis...   \n",
       "2  beetlejuic well written movi everyth excel act...   \n",
       "3  twist rumplestiskin captur film star michael k...   \n",
       "4  beetlejuic excel funni movi keaton hilari wack...   \n",
       "\n",
       "                         Cleaned_Summary  \n",
       "0                        everi book educ  \n",
       "1  whole seri great way spend time child  \n",
       "2                    entertainingl funni  \n",
       "3                  modern day fairi tale  \n",
       "4                                fantast  "
      ]
     },
     "execution_count": 2,
     "metadata": {},
     "output_type": "execute_result"
    }
   ],
   "source": [
    "# using the SQLite Table to read data.\n",
    "# The below SQlite file consists of 60000 rows with Time based splitting and Summary column preprocessed[Feature Engineering].\n",
    "con = sqlite3.connect('./final_tbs_cleansummary_text.sqlite')\n",
    "\n",
    "final_tbs=pd.read_sql_query(\"\"\"select * from Reviews\"\"\",con) # The table was preprocessed with time based splitting.\n",
    "con.close()\n",
    "\n",
    "final_tbs.head(5)"
   ]
  },
  {
   "cell_type": "code",
   "execution_count": 3,
   "metadata": {},
   "outputs": [
    {
     "name": "stdout",
     "output_type": "stream",
     "text": [
      "1    51127\n",
      "0     8873\n",
      "Name: Score, dtype: int64\n"
     ]
    },
    {
     "data": {
      "text/html": [
       "<div>\n",
       "<style scoped>\n",
       "    .dataframe tbody tr th:only-of-type {\n",
       "        vertical-align: middle;\n",
       "    }\n",
       "\n",
       "    .dataframe tbody tr th {\n",
       "        vertical-align: top;\n",
       "    }\n",
       "\n",
       "    .dataframe thead th {\n",
       "        text-align: right;\n",
       "    }\n",
       "</style>\n",
       "<table border=\"1\" class=\"dataframe\">\n",
       "  <thead>\n",
       "    <tr style=\"text-align: right;\">\n",
       "      <th></th>\n",
       "      <th>level_0</th>\n",
       "      <th>index</th>\n",
       "      <th>Id</th>\n",
       "      <th>ProductId</th>\n",
       "      <th>UserId</th>\n",
       "      <th>ProfileName</th>\n",
       "      <th>HelpfulnessNumerator</th>\n",
       "      <th>HelpfulnessDenominator</th>\n",
       "      <th>Score</th>\n",
       "      <th>Time</th>\n",
       "      <th>Summary</th>\n",
       "      <th>Text</th>\n",
       "      <th>CleanedText</th>\n",
       "      <th>Cleaned_Summary</th>\n",
       "    </tr>\n",
       "  </thead>\n",
       "  <tbody>\n",
       "    <tr>\n",
       "      <th>0</th>\n",
       "      <td>0</td>\n",
       "      <td>138706</td>\n",
       "      <td>150524</td>\n",
       "      <td>0006641040</td>\n",
       "      <td>ACITT7DI6IDDL</td>\n",
       "      <td>shari zychinski</td>\n",
       "      <td>0</td>\n",
       "      <td>0</td>\n",
       "      <td>1</td>\n",
       "      <td>939340800</td>\n",
       "      <td>EVERY book is educational</td>\n",
       "      <td>this witty little book makes my son laugh at l...</td>\n",
       "      <td>witti littl book make son laugh loud recit car...</td>\n",
       "      <td>everi book educ</td>\n",
       "    </tr>\n",
       "    <tr>\n",
       "      <th>1</th>\n",
       "      <td>30</td>\n",
       "      <td>138683</td>\n",
       "      <td>150501</td>\n",
       "      <td>0006641040</td>\n",
       "      <td>AJ46FKXOVC7NR</td>\n",
       "      <td>Nicholas A Mesiano</td>\n",
       "      <td>2</td>\n",
       "      <td>2</td>\n",
       "      <td>1</td>\n",
       "      <td>940809600</td>\n",
       "      <td>This whole series is great way to spend time w...</td>\n",
       "      <td>I can remember seeing the show when it aired o...</td>\n",
       "      <td>rememb see show air televis year ago child sis...</td>\n",
       "      <td>whole seri great way spend time child</td>\n",
       "    </tr>\n",
       "    <tr>\n",
       "      <th>2</th>\n",
       "      <td>424</td>\n",
       "      <td>417839</td>\n",
       "      <td>451856</td>\n",
       "      <td>B00004CXX9</td>\n",
       "      <td>AIUWLEQ1ADEG5</td>\n",
       "      <td>Elizabeth Medina</td>\n",
       "      <td>0</td>\n",
       "      <td>0</td>\n",
       "      <td>1</td>\n",
       "      <td>944092800</td>\n",
       "      <td>Entertainingl Funny!</td>\n",
       "      <td>Beetlejuice is a well written movie ..... ever...</td>\n",
       "      <td>beetlejuic well written movi everyth excel act...</td>\n",
       "      <td>entertainingl funni</td>\n",
       "    </tr>\n",
       "    <tr>\n",
       "      <th>3</th>\n",
       "      <td>330</td>\n",
       "      <td>346055</td>\n",
       "      <td>374359</td>\n",
       "      <td>B00004CI84</td>\n",
       "      <td>A344SMIA5JECGM</td>\n",
       "      <td>Vincent P. Ross</td>\n",
       "      <td>1</td>\n",
       "      <td>2</td>\n",
       "      <td>1</td>\n",
       "      <td>944438400</td>\n",
       "      <td>A modern day fairy tale</td>\n",
       "      <td>A twist of rumplestiskin captured on film, sta...</td>\n",
       "      <td>twist rumplestiskin captur film star michael k...</td>\n",
       "      <td>modern day fairi tale</td>\n",
       "    </tr>\n",
       "    <tr>\n",
       "      <th>4</th>\n",
       "      <td>423</td>\n",
       "      <td>417838</td>\n",
       "      <td>451855</td>\n",
       "      <td>B00004CXX9</td>\n",
       "      <td>AJH6LUC1UT1ON</td>\n",
       "      <td>The Phantom of the Opera</td>\n",
       "      <td>0</td>\n",
       "      <td>0</td>\n",
       "      <td>1</td>\n",
       "      <td>946857600</td>\n",
       "      <td>FANTASTIC!</td>\n",
       "      <td>Beetlejuice is an excellent and funny movie. K...</td>\n",
       "      <td>beetlejuic excel funni movi keaton hilari wack...</td>\n",
       "      <td>fantast</td>\n",
       "    </tr>\n",
       "  </tbody>\n",
       "</table>\n",
       "</div>"
      ],
      "text/plain": [
       "   level_0   index      Id   ProductId          UserId  \\\n",
       "0        0  138706  150524  0006641040   ACITT7DI6IDDL   \n",
       "1       30  138683  150501  0006641040   AJ46FKXOVC7NR   \n",
       "2      424  417839  451856  B00004CXX9   AIUWLEQ1ADEG5   \n",
       "3      330  346055  374359  B00004CI84  A344SMIA5JECGM   \n",
       "4      423  417838  451855  B00004CXX9   AJH6LUC1UT1ON   \n",
       "\n",
       "                ProfileName  HelpfulnessNumerator  HelpfulnessDenominator  \\\n",
       "0           shari zychinski                     0                       0   \n",
       "1        Nicholas A Mesiano                     2                       2   \n",
       "2          Elizabeth Medina                     0                       0   \n",
       "3           Vincent P. Ross                     1                       2   \n",
       "4  The Phantom of the Opera                     0                       0   \n",
       "\n",
       "   Score       Time                                            Summary  \\\n",
       "0      1  939340800                          EVERY book is educational   \n",
       "1      1  940809600  This whole series is great way to spend time w...   \n",
       "2      1  944092800                               Entertainingl Funny!   \n",
       "3      1  944438400                            A modern day fairy tale   \n",
       "4      1  946857600                                         FANTASTIC!   \n",
       "\n",
       "                                                Text  \\\n",
       "0  this witty little book makes my son laugh at l...   \n",
       "1  I can remember seeing the show when it aired o...   \n",
       "2  Beetlejuice is a well written movie ..... ever...   \n",
       "3  A twist of rumplestiskin captured on film, sta...   \n",
       "4  Beetlejuice is an excellent and funny movie. K...   \n",
       "\n",
       "                                         CleanedText  \\\n",
       "0  witti littl book make son laugh loud recit car...   \n",
       "1  rememb see show air televis year ago child sis...   \n",
       "2  beetlejuic well written movi everyth excel act...   \n",
       "3  twist rumplestiskin captur film star michael k...   \n",
       "4  beetlejuic excel funni movi keaton hilari wack...   \n",
       "\n",
       "                         Cleaned_Summary  \n",
       "0                        everi book educ  \n",
       "1  whole seri great way spend time child  \n",
       "2                    entertainingl funni  \n",
       "3                  modern day fairi tale  \n",
       "4                                fantast  "
      ]
     },
     "execution_count": 3,
     "metadata": {},
     "output_type": "execute_result"
    }
   ],
   "source": [
    "def partition(x):\n",
    "    if x == \"positive\":\n",
    "        return 1\n",
    "    return 0\n",
    "\n",
    "actualScore = final_tbs['Score']\n",
    "positiveNegative = actualScore.map(partition) \n",
    "final_tbs['Score'] = positiveNegative\n",
    "\n",
    "print(final_tbs['Score'].value_counts())\n",
    "\n",
    "final_tbs.head(5)\n"
   ]
  },
  {
   "cell_type": "code",
   "execution_count": 4,
   "metadata": {},
   "outputs": [
    {
     "name": "stdout",
     "output_type": "stream",
     "text": [
      "everi book educ witti littl book make son laugh loud recit car drive along alway sing refrain hes learn whale india droop love new word book introduc silli classic book will bet son still abl recit memori colleg\n"
     ]
    }
   ],
   "source": [
    "#Since Summary column gives move details about what the text is, I joined both the features[Feature Engineering].\n",
    "final_tbs['Summary_CleanedText'] = final_tbs[['Cleaned_Summary', 'CleanedText']].apply(lambda x: ' '.join(x), axis=1)\n",
    "\n",
    "print(final_tbs['Summary_CleanedText'][0])"
   ]
  },
  {
   "cell_type": "markdown",
   "metadata": {},
   "source": [
    "### Multinomial Naive Bayes:\n",
    "MultinomialNB implements the naive Bayes algorithm for multinomially distributed data, and is one of the two classic naive Bayes variants used in text classification (where the data are typically represented as word vector counts, although tf-idf vectors are also known to work well in practice)."
   ]
  },
  {
   "cell_type": "code",
   "execution_count": 5,
   "metadata": {},
   "outputs": [],
   "source": [
    "# split the data set into train and test\n",
    "y = np.array(final_tbs['Score'])"
   ]
  },
  {
   "cell_type": "code",
   "execution_count": 6,
   "metadata": {},
   "outputs": [],
   "source": [
    "#Splitting whole data into Train,Cv,and Test datasets\n",
    "X_1, test_df, y_1, y_test = train_test_split(final_tbs, y, test_size=0.20, random_state=43,shuffle=False)\n",
    "\n",
    "train_df, cv_df, y_tr, y_cv = train_test_split(X_1, y_1, test_size=0.20,random_state=43,shuffle=False)"
   ]
  },
  {
   "cell_type": "code",
   "execution_count": 7,
   "metadata": {},
   "outputs": [],
   "source": [
    "def plot_confusion_matrix(y_test, pred):\n",
    "    C = confusion_matrix(y_test, pred)\n",
    "    \n",
    "    labels = [1,2]\n",
    "    print(\"-\"*20, \"Confusion matrix\", \"-\"*20)\n",
    "    plt.figure(figsize=(10,4))\n",
    "    sns.heatmap(C, annot=True, cmap=\"YlGnBu\", fmt=\".3f\", xticklabels=labels, yticklabels=labels)\n",
    "    plt.xlabel('Predicted Class')\n",
    "    plt.ylabel('Original Class')\n",
    "    plt.show()\n",
    "    \n",
    "#tn, fp, fn, tp = confusion_matrix(y_test, pred).ravel()\n",
    "#print(\"True Negative Rate: \", tn/(tn+fp))\n",
    "#print(\"True Positive Rate: \", tp/(fn+tp))\n",
    "#print(\"False Positive Rate: \", fp/(tn+fp))\n",
    "#print(\"False Negative Rate: \", fn/(fn+tp))\n"
   ]
  },
  {
   "cell_type": "code",
   "execution_count": 41,
   "metadata": {},
   "outputs": [],
   "source": [
    "def NB_Classifier(train_std_data,cv_std_data,test_std_data,y_tr,y_cv,y_test):\n",
    "    \n",
    "    start=time.time()\n",
    "    alpha_values = [0.00001, 0.0001, 0.001, 0.1, 1, 10, 100,1000]\n",
    "    cv_scores=[]\n",
    "    for alpha in alpha_values:\n",
    "        clf = MultinomialNB(alpha=alpha) \n",
    "        #scores = cross_val_score(clf, X_1, y_1, cv=10,scoring=\"accuracy\")\n",
    "        clf.fit(train_std_data, y_tr)      \n",
    "        pred=clf.predict(cv_std_data)       \n",
    "        f1 = metrics.f1_score(y_cv,pred)\n",
    "        cv_scores.append(f1)\n",
    "        \n",
    "    # MSE = [1-x for x in cv_scores] # Misclassification error\n",
    "    print(cv_scores)\n",
    "    optimal_alpha = alpha_values[cv_scores.index(max(cv_scores))]\n",
    "    print('\\nThe optimal number of alpha is %f.' % optimal_alpha)\n",
    "    \n",
    "    # plot misclassification error vs k \n",
    "    plt.plot(alpha_values, cv_scores)\n",
    "    \n",
    "    for xy in zip(alpha_values, np.round(cv_scores,3)):\n",
    "        plt.annotate('(%s, %s)' % xy, xy=xy, textcoords='data')\n",
    "    \n",
    "    plt.xlabel('Hyperparameters')\n",
    "    plt.ylabel('cv_scores')\n",
    "    plt.show()\n",
    "    \n",
    "    print(\"the cv_scores for each alpha value is : \", np.round(cv_scores,3))\n",
    "    \n",
    "    Nb_optimal = MultinomialNB(alpha=optimal_alpha)\n",
    "    \n",
    "    # fitting the model\n",
    "    Nb_optimal.fit(train_std_data, y_tr)   \n",
    "    \n",
    "    # predict the response\n",
    "    pred = Nb_optimal.predict(test_std_data)\n",
    "    \n",
    "    print(\"----\"*20)\n",
    "    \n",
    "    # Plotting Confusion_Matrix\n",
    "    plot_confusion_matrix(y_test, pred)\n",
    "    \n",
    "    # evaluate accuracy\n",
    "    acc = accuracy_score(y_test, pred) * 100\n",
    "    print('\\nThe accuracy of the NB classifier[Test data] for alpha = %d is %f%%' % (optimal_alpha, acc))\n",
    "    \n",
    "    # Precision\n",
    "    precision = metrics.precision_score(y_test, pred)*100\n",
    "    print('\\nThe precision of the NB classifier[Test data] for alpha = %d is %f%%' % (optimal_alpha, precision))\n",
    "    \n",
    "    # Recall\n",
    "    recall = metrics.recall_score(y_test, pred)*100\n",
    "    print('\\nThe recall of the NB classifier[Test data] for alpha = %d is %f%%' % (optimal_alpha, recall))\n",
    "    \n",
    "    #F1_Score\n",
    "    f1_score = metrics.f1_score(y_test, pred)*100\n",
    "    print('\\nThe F1_score of the NB classifier[Test data] for alpha = %d is %f%%' % (optimal_alpha, f1_score))\n",
    "    \n",
    "    print(\"----\"*20)\n",
    "    \n",
    "    end=time.time()-start\n",
    "    print(time.strftime(\"%H:%M:%S\", time.gmtime(end)))\n",
    "    return Nb_optimal\n",
    "    "
   ]
  },
  {
   "cell_type": "markdown",
   "metadata": {},
   "source": [
    "### BOW"
   ]
  },
  {
   "cell_type": "code",
   "execution_count": 42,
   "metadata": {},
   "outputs": [],
   "source": [
    "#BoW\n",
    "count_vect = CountVectorizer(min_df=50,max_features=2000) #in scikit-learn\n",
    "\n",
    "train_bows = count_vect.fit_transform(train_df['Summary_CleanedText'])\n",
    "cv_bows = count_vect.transform(cv_df['Summary_CleanedText'])\n",
    "test_bows = count_vect.transform(test_df['Summary_CleanedText'])\n",
    "\n",
    "train_std_bow = StandardScaler(with_mean=False).fit_transform(train_bows)\n",
    "cv_std_bow = StandardScaler(with_mean=False).fit_transform(cv_bows)\n",
    "test_std_bow = StandardScaler(with_mean=False).fit_transform(test_bows)"
   ]
  },
  {
   "cell_type": "code",
   "execution_count": 43,
   "metadata": {},
   "outputs": [
    {
     "name": "stdout",
     "output_type": "stream",
     "text": [
      "[0.9041222178322139, 0.9041222178322139, 0.9041222178322139, 0.9041943767696055, 0.9042882550556617, 0.9032811777909817, 0.9016436903499471, 0.9178021420875847]\n",
      "\n",
      "The optimal number of alpha is 1000.000000.\n"
     ]
    },
    {
     "data": {
      "image/png": "[encoded data removed]",
      "text/plain": [
       "<Figure size 432x288 with 1 Axes>"
      ]
     },
     "metadata": {},
     "output_type": "display_data"
    },
    {
     "name": "stdout",
     "output_type": "stream",
     "text": [
      "the cv_scores for each alpha value is :  [0.904 0.904 0.904 0.904 0.904 0.903 0.902 0.918]\n",
      "--------------------------------------------------------------------------------\n",
      "-------------------- Confusion matrix --------------------\n"
     ]
    },
    {
     "data": {
      "image/png": "[encoded data removed]",
      "text/plain": [
       "<Figure size 720x288 with 2 Axes>"
      ]
     },
     "metadata": {},
     "output_type": "display_data"
    },
    {
     "name": "stdout",
     "output_type": "stream",
     "text": [
      "\n",
      "The accuracy of the NB classifier[Test data] for alpha = 1000 is 86.341667%\n",
      "\n",
      "The precision of the NB classifier[Test data] for alpha = 1000 is 91.804958%\n",
      "\n",
      "The recall of the NB classifier[Test data] for alpha = 1000 is 91.439649%\n",
      "\n",
      "The F1_score of the NB classifier[Test data] for alpha = 1000 is 91.621939%\n",
      "--------------------------------------------------------------------------------\n",
      "00:00:00\n"
     ]
    }
   ],
   "source": [
    "clf = NB_Classifier(train_std_bow,cv_std_bow,test_std_bow,y_tr,y_cv,y_test) #calling function inorder to avoid duplicate code."
   ]
  },
  {
   "cell_type": "code",
   "execution_count": 44,
   "metadata": {},
   "outputs": [
    {
     "data": {
      "text/plain": [
       "'\\ndef print_top10(vectorizer, clf, class_labels):\\n    \"\"\"Prints features with the highest coefficient values, per class\"\"\"\\n    feature_names = vectorizer.get_feature_names()\\n   # print(feature_names)\\n   # print(feature_names)\\n   # for class_label in range(class_labels):\\n    top10 = np.argsort(clf.coef_[0])[-10:]\\n    print(\"%s: %s\" % (class_labels,\\n              \" \".join(feature_names[j] for j in top10)))\\n        \\n#print(\"dimensionality: %d\" % clf.coef_.shape[1])\\n\\nprint_top10(count_vect,clf,y[1])\\n'"
      ]
     },
     "execution_count": 44,
     "metadata": {},
     "output_type": "execute_result"
    }
   ],
   "source": [
    "# To print top 10 features\n",
    "'''\n",
    "def print_top10(vectorizer, clf, class_labels):\n",
    "    \"\"\"Prints features with the highest coefficient values, per class\"\"\"\n",
    "    feature_names = vectorizer.get_feature_names()\n",
    "   # print(feature_names)\n",
    "   # print(feature_names)\n",
    "   # for class_label in range(class_labels):\n",
    "    top10 = np.argsort(clf.coef_[0])[-10:]\n",
    "    print(\"%s: %s\" % (class_labels,\n",
    "              \" \".join(feature_names[j] for j in top10)))\n",
    "        \n",
    "#print(\"dimensionality: %d\" % clf.coef_.shape[1])\n",
    "\n",
    "print_top10(count_vect,clf,y[1])\n",
    "'''"
   ]
  },
  {
   "cell_type": "code",
   "execution_count": 45,
   "metadata": {},
   "outputs": [
    {
     "name": "stdout",
     "output_type": "stream",
     "text": [
      "********************NEGATIVE****************************************************\n",
      "\t-6.4904\tdisappoint     \t\n",
      "\t-6.4907\ttast           \t\n",
      "\t-6.5103\tproduct        \t\n",
      "\t-6.5361\tlike           \t\n",
      "\t-6.6139\twould          \t\n",
      "\t-6.6528\tbad            \t\n",
      "\t-6.6874\tbuy            \t\n",
      "\t-6.6966\tmoney          \t\n",
      "\t-6.7208\tone            \t\n",
      "\t-6.7332\tdont           \t\n",
      "**********************POSITIVE*****************************************************\n",
      "\t-5.8474\tgreat          \t\n",
      "\t-5.9726\tgood           \t\n",
      "\t-5.9880\tlove           \t\n",
      "\t-6.0853\tlike           \t\n",
      "\t-6.0994\ttast           \t\n",
      "\t-6.1573\tbest           \t\n",
      "\t-6.2110\tmake           \t\n",
      "\t-6.2146\tone            \t\n",
      "\t-6.2186\tuse            \t\n",
      "\t-6.2241\ttri            \t\n"
     ]
    }
   ],
   "source": [
    "print(\"********************NEGATIVE****************************************************\")\n",
    "\n",
    "def show_most_informative_features(vectorizer, clf, n=10):\n",
    "    feature_names = vectorizer.get_feature_names()\n",
    "    #print(sorted(clf.coef_[0]))\n",
    "    coefs_with_fns = sorted(zip(clf.feature_log_prob_[0], feature_names))\n",
    "    #print(coefs_with_fns[:-11:-1])\n",
    "    #top = zip(coefs_with_fns[:n], coefs_with_fns[:-(n + 1):-1])\n",
    "    top = coefs_with_fns[:-(n + 1):-1]\n",
    "    for (coef_1, fn_1) in top:\n",
    "        print(\"\\t%.4f\\t%-15s\\t\" % (coef_1, fn_1))\n",
    "        \n",
    "show_most_informative_features(count_vect, clf, 10)\n",
    "              \n",
    "print(\"**********************POSITIVE*****************************************************\")\n",
    "              \n",
    "def show_most_informative_features(vectorizer, clf, n=10):\n",
    "    feature_names = vectorizer.get_feature_names()\n",
    "    #print(sorted(clf.coef_[0]))\n",
    "    coefs_with_fns = sorted(zip(clf.feature_log_prob_[1], feature_names))\n",
    "    #print(coefs_with_fns[:-11:-1])\n",
    "    #top = zip(coefs_with_fns[:n], coefs_with_fns[:-(n + 1):-1])\n",
    "    top = coefs_with_fns[:-(n + 1):-1]\n",
    "    for (coef_1, fn_1) in top:\n",
    "        print(\"\\t%.4f\\t%-15s\\t\" % (coef_1, fn_1))\n",
    "        \n",
    "show_most_informative_features(count_vect, clf)"
   ]
  },
  {
   "cell_type": "code",
   "execution_count": 46,
   "metadata": {},
   "outputs": [
    {
     "name": "stdout",
     "output_type": "stream",
     "text": [
      "['smile' 'muesli' 'versatil' 'bedtim' 'immun' 'downsid' 'cardamom' 'ahmad'\n",
      " 'superb' 'yum' 'camp' 'british' 'mood' 'aromat' 'hook' 'purs' 'juici'\n",
      " 'ham' 'sooth' 'chipotl' 'rebecca' 'hearti' 'vacat' 'yorkshir' 'tortilla'\n",
      " 'virgin' 'anytim' 'skeptic' 'cider' 'quinoa']\n",
      "['yuck' 'mislead' 'rancid' 'refund' 'worst' 'zico' 'gelatin' 'bug'\n",
      " 'disgust' 'omega' 'mold' 'marzipan' 'granul' 'threw' 'pearl' 'tasteless'\n",
      " 'greeni' 'tran' 'brewer' 'rabbit' 'buckwheat' 'studi' 'crab' 'pellet'\n",
      " 'immun' 'canida' 'mate' 'carpet' 'unpleas' 'garbag']\n"
     ]
    }
   ],
   "source": [
    "neg_class_prob_sorted = clf.feature_log_prob_[0, :].argsort()\n",
    "pos_class_prob_sorted = clf.feature_log_prob_[1, :].argsort()\n",
    "\n",
    "print(np.take(count_vect.get_feature_names(), neg_class_prob_sorted[:30]))\n",
    "print(np.take(count_vect.get_feature_names(), pos_class_prob_sorted[:30]))"
   ]
  },
  {
   "cell_type": "markdown",
   "metadata": {},
   "source": [
    "### TFIDF"
   ]
  },
  {
   "cell_type": "code",
   "execution_count": 54,
   "metadata": {},
   "outputs": [],
   "source": [
    "tf_idf_vect = TfidfVectorizer(min_df=50,max_features=2000,ngram_range=(1, 3))\n",
    "\n",
    "train_tfidf = tf_idf_vect.fit_transform(train_df['Summary_CleanedText'])\n",
    "cv_tfidf = tf_idf_vect.transform(cv_df['Summary_CleanedText'])\n",
    "test_tfidf = tf_idf_vect.transform(test_df['Summary_CleanedText'])\n",
    "\n",
    "train_std_tfidf = StandardScaler(with_mean=False).fit_transform(train_tfidf)\n",
    "cv_std_tfidf = StandardScaler(with_mean=False).fit_transform(cv_tfidf)\n",
    "test_std_tfidf = StandardScaler(with_mean=False).fit_transform(test_tfidf)"
   ]
  },
  {
   "cell_type": "code",
   "execution_count": 55,
   "metadata": {},
   "outputs": [
    {
     "name": "stdout",
     "output_type": "stream",
     "text": [
      "[0.903976592631999, 0.903976592631999, 0.903976592631999, 0.9037578982374459, 0.9035391165513571, 0.9030452455520758, 0.8946410515672396, 0.9083425883582675]\n",
      "\n",
      "The optimal number of alpha is 1000.000000.\n"
     ]
    },
    {
     "data": {
      "image/png": "[encoded data removed]",
      "text/plain": [
       "<Figure size 432x288 with 1 Axes>"
      ]
     },
     "metadata": {},
     "output_type": "display_data"
    },
    {
     "name": "stdout",
     "output_type": "stream",
     "text": [
      "the cv_scores for each alpha value is :  [0.904 0.904 0.904 0.904 0.904 0.903 0.895 0.908]\n",
      "--------------------------------------------------------------------------------\n",
      "-------------------- Confusion matrix --------------------\n"
     ]
    },
    {
     "data": {
      "image/png": "[encoded data removed]",
      "text/plain": [
       "<Figure size 720x288 with 2 Axes>"
      ]
     },
     "metadata": {},
     "output_type": "display_data"
    },
    {
     "name": "stdout",
     "output_type": "stream",
     "text": [
      "\n",
      "The accuracy of the NB classifier[Test data] for alpha = 1000 is 85.191667%\n",
      "\n",
      "The precision of the NB classifier[Test data] for alpha = 1000 is 93.904574%\n",
      "\n",
      "The recall of the NB classifier[Test data] for alpha = 1000 is 87.552291%\n",
      "\n",
      "The F1_score of the NB classifier[Test data] for alpha = 1000 is 90.617245%\n",
      "--------------------------------------------------------------------------------\n",
      "00:00:00\n"
     ]
    }
   ],
   "source": [
    "clf = NB_Classifier(train_std_tfidf,cv_std_tfidf,test_std_tfidf,y_tr,y_cv,y_test) #calling function inorder to avoid duplicate code."
   ]
  },
  {
   "cell_type": "code",
   "execution_count": 57,
   "metadata": {},
   "outputs": [
    {
     "name": "stdout",
     "output_type": "stream",
     "text": [
      "********************NEGATIVE****************************************************\n",
      "\t-6.4369 tast           \t\n",
      "\t-6.4927 like           \t\n",
      "\t-6.4941 disappoint     \t\n",
      "\t-6.5642 product        \t\n",
      "\t-6.5830 would          \t\n",
      "\t-6.6648 bad            \t\n",
      "\t-6.6799 dont           \t\n",
      "\t-6.6959 money          \t\n",
      "\t-6.7112 one            \t\n",
      "\t-6.7358 wast           \t\n",
      "\t-6.7397 buy            \t\n",
      "\t-6.7473 horribl        \t\n",
      "\t-6.7536 wast money     \t\n",
      "\t-6.7670 terribl        \t\n",
      "\t-6.7741 aw             \t\n",
      "\t-6.7903 tri            \t\n",
      "\t-6.7907 worst          \t\n",
      "\t-6.7929 didnt          \t\n",
      "\t-6.8004 order          \t\n",
      "\t-6.8367 even           \t\n",
      "\t-6.8477 box            \t\n",
      "\t-6.8575 tast like      \t\n",
      "\t-6.8601 thought        \t\n",
      "\t-6.8753 look           \t\n",
      "\t-6.8755 away           \t\n",
      "\t-6.8829 review         \t\n",
      "\t-6.8843 get            \t\n",
      "\t-6.8858 much           \t\n",
      "\t-6.8991 flavor         \t\n",
      "\t-6.9020 receiv         \t\n",
      "**********************POSITIVE*****************************************************\n",
      "\t-5.9323\tgreat          \t\n",
      "\t-6.0332\tlove           \t\n",
      "\t-6.0478\tgood           \t\n",
      "\t-6.1083\tlike           \t\n",
      "\t-6.1141\ttast           \t\n",
      "\t-6.1882\tuse            \t\n",
      "\t-6.2347\tone            \t\n",
      "\t-6.2356\tmake           \t\n",
      "\t-6.2365\tbest           \t\n",
      "\t-6.2380\tflavor         \t\n",
      "\t-6.2629\ttri            \t\n",
      "\t-6.2725\tproduct        \t\n",
      "\t-6.3376\tget            \t\n",
      "\t-6.4105\ttime           \t\n",
      "\t-6.4202\ttea            \t\n",
      "\t-6.4228\tfind           \t\n",
      "\t-6.4813\talso           \t\n",
      "\t-6.4908\tbuy            \t\n",
      "\t-6.4917\trealli         \t\n",
      "\t-6.4990\tstore          \t\n",
      "\t-6.5089\teat            \t\n",
      "\t-6.5215\tlittl          \t\n",
      "\t-6.5378\tamazon         \t\n",
      "\t-6.5412\twell           \t\n",
      "\t-6.5442\tdelici         \t\n",
      "\t-6.5502\tmuch           \t\n",
      "\t-6.5538\tive            \t\n",
      "\t-6.5609\tyear           \t\n",
      "\t-6.5669\tprice          \t\n",
      "\t-6.5817\teven           \t\n"
     ]
    }
   ],
   "source": [
    "#print(y[467])\n",
    "\n",
    "print(\"********************NEGATIVE****************************************************\")\n",
    "\n",
    "def show_most_informative_features(vectorizer, clf, n=30):\n",
    "    feature_names = vectorizer.get_feature_names()\n",
    "    #print(sorted(clf.coef_[0]))\n",
    "    coefs_with_fns = sorted(zip(clf.feature_log_prob_[0], feature_names))\n",
    "    #print(coefs_with_fns[:-11:-1])\n",
    "    #top = zip(coefs_with_fns[:n], coefs_with_fns[:-(n + 1):-1])\n",
    "    top = coefs_with_fns[:-(n + 1):-1]\n",
    "    for (coef_1, fn_1) in top:\n",
    "        print(\"\\t%.4f %-15s\\t\" % (coef_1, fn_1))\n",
    "        \n",
    "show_most_informative_features(tf_idf_vect, clf)\n",
    "\n",
    "print(\"**********************POSITIVE*****************************************************\")\n",
    "\n",
    "def show_most_informative_features(vectorizer, clf, n=30):\n",
    "    feature_names = vectorizer.get_feature_names()\n",
    "    #print(sorted(clf.coef_[0]))\n",
    "    coefs_with_fns = sorted(zip(clf.feature_log_prob_[1], feature_names))\n",
    "    #print(coefs_with_fns[:-11:-1])\n",
    "    #top = zip(coefs_with_fns[:n], coefs_with_fns[:-(n + 1):-1])\n",
    "    top = coefs_with_fns[:-(n + 1):-1]\n",
    "    for i,(coef_1, fn_1) in enumerate(top):\n",
    "        print(\"\\t%.4f\\t%-15s\\t\" %(coef_1, fn_1))\n",
    "        \n",
    "show_most_informative_features(tf_idf_vect, clf)"
   ]
  },
  {
   "cell_type": "markdown",
   "metadata": {},
   "source": [
    "## Conclusion:\n",
    "    "
   ]
  },
  {
   "cell_type": "code",
   "execution_count": 58,
   "metadata": {},
   "outputs": [
    {
     "name": "stdout",
     "output_type": "stream",
     "text": [
      "+------------+----------------+-----------+----------+-----------+--------+----------+\n",
      "| Vectorizer | Hyperparameter | Algorithm | Accuracy | Precision | Recall | F1_Score |\n",
      "+------------+----------------+-----------+----------+-----------+--------+----------+\n",
      "|    BOW     |      1000      |     NB    |  86.34   |    91.8   | 91.43  |  91.62   |\n",
      "|   TFIDF    |      1000      |     NB    |  85.19   |    93.9   | 87.55  |  90.61   |\n",
      "+------------+----------------+-----------+----------+-----------+--------+----------+\n"
     ]
    }
   ],
   "source": [
    "from prettytable import PrettyTable\n",
    "    \n",
    "x = PrettyTable()\n",
    "\n",
    "x.field_names = [\"Vectorizer\",\"Hyperparameter\", \"Algorithm\", \"Accuracy\", \"Precision\", \"Recall\", \"F1_Score\"]\n",
    "\n",
    "x.add_row([\"BOW\", 1000, \"NB\", 86.34, 91.80, 91.43, 91.62])\n",
    "x.add_row([\"TFIDF\", 1000, \"NB\", 85.19, 93.90, 87.55, 90.61])\n",
    "\n",
    "print(x)"
   ]
  },
  {
   "cell_type": "raw",
   "metadata": {},
   "source": [
    "1.No of data points : 60000\n",
    "2.Text feature is considered as important feature to differentiate between positive and negative review.\n",
    "3.Here I added one more feature concatinating Summary and Cleaned Text. Since summary gives more information about the text.\n",
    "4.Standardizing the data gave better results than without doing it.\n",
    "5.Splitting data into train, test and cross validation is very important inorder to avoid data leakage issues.\n",
    "6.Here I used four featurization techniques: BOW,TFIDF,Avg-W2V,Tfidf-W2V. "
   ]
  },
  {
   "cell_type": "code",
   "execution_count": null,
   "metadata": {},
   "outputs": [],
   "source": []
  }
 ],
 "metadata": {
  "kernelspec": {
   "display_name": "Python 3",
   "language": "python",
   "name": "python3"
  },
  "language_info": {
   "codemirror_mode": {
    "name": "ipython",
    "version": 3
   },
   "file_extension": ".py",
   "mimetype": "text/x-python",
   "name": "python",
   "nbconvert_exporter": "python",
   "pygments_lexer": "ipython3",
   "version": "3.6.5"
  }
 },
 "nbformat": 4,
 "nbformat_minor": 2
}
